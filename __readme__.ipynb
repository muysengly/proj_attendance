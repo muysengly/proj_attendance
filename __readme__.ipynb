{
 "cells": [
  {
   "cell_type": "markdown",
   "metadata": {},
   "source": [
    "---\n",
    "\n",
    "### Install all libraries online"
   ]
  },
  {
   "cell_type": "raw",
   "metadata": {
    "vscode": {
     "languageId": "raw"
    }
   },
   "source": [
    "// create new venv using python version 3.12 \n",
    "python -m venv venv\n",
    "\n",
    "// activate the venv\n",
    "venv\\Scripts\\activate\n",
    "\n",
    "// upgrade pip\n",
    "python.exe -m pip install --upgrade pip\n",
    "\n",
    "\n",
    "// install requirement\n",
    "pip install -r requirements.txt\n",
    "\n",
    "// create a new conda environment\n",
    "conda create -n student_attd python=3.12 -y\n",
    "\n",
    "// activate the environment\n",
    "conda activate student_attd\n",
    "\n",
    "// pip install juptyer notebook\n",
    "pip install jupyter\n",
    "\n",
    "// pip install opencv\n",
    "pip install opencv-python\n",
    "\n",
    "// install insightface\n",
    "pip install insightface\n",
    "\n",
    "// install onnxruntime\n",
    "pip install onnxruntime\n",
    "\n",
    "// install pyqt5\n",
    "pip install pyqt5"
   ]
  },
  {
   "cell_type": "markdown",
   "metadata": {},
   "source": [
    "---\n",
    "\n",
    "### Compile python to machine code\n"
   ]
  },
  {
   "cell_type": "raw",
   "metadata": {
    "vscode": {
     "languageId": "raw"
    }
   },
   "source": [
    "// Compile a Python script to a .pyc file\n",
    "python -m compileall myscript.py"
   ]
  },
  {
   "cell_type": "markdown",
   "metadata": {},
   "source": [
    "---\n",
    "\n",
    "### Make python environment for offline user"
   ]
  },
  {
   "cell_type": "raw",
   "metadata": {
    "vscode": {
     "languageId": "raw"
    }
   },
   "source": [
    "// freeze the current environment\n",
    "pip freeze > requirements.txt\n",
    "\n",
    "\n",
    "// make a new folder\n",
    "mkdir offline_packages\n",
    "\n",
    "\n",
    "// download the packages to the folder\n",
    "pip download -r requirements.txt -d offline_packages\n",
    "\n",
    "\n",
    "// install the packages from the folder\n",
    "pip install --no-index --find-links=offline_packages -r requirements.txt\n"
   ]
  },
  {
   "cell_type": "markdown",
   "metadata": {},
   "source": [
    "---\n",
    "\n",
    "### Make Visual Studio BuildTools for offline"
   ]
  },
  {
   "cell_type": "raw",
   "metadata": {
    "vscode": {
     "languageId": "raw"
    }
   },
   "source": [
    "// Download VisualStudio BuildTools 2022\n",
    "\n",
    "vs_BuildTools.exe --layout C:\\VS_BuildTools_Offline --add Microsoft.VisualStudio.Workload.VCTools --includeRecommended --includeOptional --lang en-US"
   ]
  },
  {
   "cell_type": "markdown",
   "metadata": {},
   "source": [
    "---\n",
    "\n",
    "### Install all dependencies offline"
   ]
  },
  {
   "cell_type": "raw",
   "metadata": {
    "vscode": {
     "languageId": "raw"
    }
   },
   "source": [
    "// 1. Install VS_BuildTools_Offline in \"__resources__\" folder\n",
    "double click VS_BuildTools_Offline/vs_setup.exe\n",
    "\n",
    "// 2. Install Python Version 3.12 in \"__resources__\" folder\n",
    "double click python-3.12.9-amd64.exe\n",
    "\n",
    "// 3. Install all Python dependencies from requirements.txt\n",
    "double click setup.bat\n",
    "\n",
    "// 4. Run the application\n",
    "double click run.bat\n"
   ]
  }
 ],
 "metadata": {
  "language_info": {
   "name": "python"
  }
 },
 "nbformat": 4,
 "nbformat_minor": 2
}

{
 "cells": [
  {
   "cell_type": "markdown",
   "metadata": {},
   "source": [
    "---\n",
    "\n",
    "### Install all libraries online"
   ]
  },
  {
   "cell_type": "raw",
   "metadata": {
    "vscode": {
     "languageId": "raw"
    }
   },
   "source": [
    "// 1. setup c++ development tools\n",
    "- Windows\n",
    "install visual studio with c++ development tools\n",
    "\n",
    "- Mac\n",
    "brew install llvm\n",
    "\n",
    "// 2. install python 3.12\n",
    "\n",
    "// create a virtual environment \n",
    "- Windows\n",
    "py -3.12 -m venv venv\n",
    "\n",
    "- Mac\n",
    "python3.12 -m venv venv\n",
    "\n",
    "// activate the virtual environment\n",
    "- Windows\n",
    "venv\\Scripts\\activate\n",
    "\n",
    "- Mac: need to check\n",
    "source venv/bin/activate\n",
    "\n",
    "\n",
    "// upgrade pip\n",
    "python.exe -m pip install --upgrade pip\n",
    "\n",
    "// install opencv\n",
    "pip install opencv-python\n",
    "\n",
    "// install insightface\n",
    "pip install insightface\n",
    "\n",
    "// install onnxruntime\n",
    "pip install onnxruntime\n",
    "\n",
    "// install pyqt5\n",
    "pip install pyqt5"
   ]
  },
  {
   "cell_type": "raw",
   "metadata": {
    "vscode": {
     "languageId": "raw"
    }
   },
   "source": [
    "// optional\n",
    "\n",
    "// upgrade pip\n",
    "py -3.12 -m pip install --upgrade pip\n",
    "\n",
    "// install requirement\n",
    "pip install -r requirements.txt\n",
    "\n",
    "// create a new conda environment\n",
    "conda create -n student_attd python=3.12 -y\n",
    "\n",
    "// activate the environment\n",
    "conda activate student_attd\n",
    "\n",
    "// pip install juptyer notebook\n",
    "pip install jupyter"
   ]
  },
  {
   "cell_type": "markdown",
   "metadata": {},
   "source": [
    "---\n",
    "\n",
    "### Compile python to machine code\n"
   ]
  },
  {
   "cell_type": "raw",
   "metadata": {
    "vscode": {
     "languageId": "raw"
    }
   },
   "source": [
    "// Compile a Python script to a .pyc file\n",
    "python -m compileall myscript.py"
   ]
  },
  {
   "cell_type": "raw",
   "metadata": {
    "vscode": {
     "languageId": "raw"
    }
   },
   "source": [
    "// run compiled python script pyc\n",
    "python -m compileall -d 013.pyc 013.py"
   ]
  },
  {
   "cell_type": "markdown",
   "metadata": {},
   "source": [
    "---\n",
    "\n",
    "### Make python environment for offline user"
   ]
  },
  {
   "cell_type": "raw",
   "metadata": {
    "vscode": {
     "languageId": "raw"
    }
   },
   "source": [
    "// freeze the current environment\n",
    "pip freeze > requirements.txt\n",
    "\n",
    "\n",
    "// make a new folder\n",
    "mkdir setup_offline\n",
    "\n",
    "\n",
    "// download the packages to the folder\n",
    "pip download -r requirements.txt -d setup_offline\n",
    "\n",
    "\n",
    "// install the packages from the folder\n",
    "pip install --no-index --find-links=setup_offline -r requirements.txt\n"
   ]
  },
  {
   "cell_type": "markdown",
   "metadata": {},
   "source": [
    "---\n",
    "\n",
    "### Make Visual Studio BuildTools for offline"
   ]
  },
  {
   "cell_type": "raw",
   "metadata": {
    "vscode": {
     "languageId": "raw"
    }
   },
   "source": [
    "// Download VisualStudio BuildTools 2022\n",
    "\n",
    "vs_BuildTools.exe --layout C:\\VS_BuildTools_Offline --add Microsoft.VisualStudio.Workload.VCTools --includeRecommended --lang en-US\n",
    "vs_BuildTools.exe --layout C:\\VS_BuildTools_Offline --add Microsoft.VisualStudio.Workload.VCTools --includeRecommended --includeOptional --lang en-US"
   ]
  },
  {
   "cell_type": "markdown",
   "metadata": {},
   "source": [
    "---\n",
    "\n",
    "### Install all dependencies offline"
   ]
  },
  {
   "cell_type": "raw",
   "metadata": {
    "vscode": {
     "languageId": "raw"
    }
   },
   "source": [
    "// 1. Install VS_BuildTools_Offline in \"__resources__\" folder\n",
    "double click VS_BuildTools_Offline/vs_setup.exe\n",
    "\n",
    "// 2. Install Python Version 3.12 in \"__resources__\" folder\n",
    "double click python-3.12.9-amd64.exe\n",
    "\n",
    "// 3. Install all Python dependencies from requirements.txt\n",
    "double click setup.bat\n",
    "\n",
    "// 4. Run the application\n",
    "double click run.bat\n"
   ]
  },
  {
   "cell_type": "raw",
   "metadata": {},
   "source": []
  },
  {
   "cell_type": "raw",
   "metadata": {
    "vscode": {
     "languageId": "raw"
    }
   },
   "source": [
    "https://drive.google.com/drive/folders/1M23eRiufaYyP0b6UQjqN-TIqauR25hN1?usp=sharing"
   ]
  },
  {
   "cell_type": "raw",
   "metadata": {},
   "source": []
  }
 ],
 "metadata": {
  "language_info": {
   "name": "python"
  }
 },
 "nbformat": 4,
 "nbformat_minor": 2
}
